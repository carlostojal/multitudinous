{
 "cells": [
  {
   "cell_type": "markdown",
   "metadata": {},
   "source": [
    "# Voxel Transformer Demonstration\n",
    "\n",
    "This is a demo of the Voxel Transformer model."
   ]
  },
  {
   "cell_type": "markdown",
   "metadata": {},
   "source": [
    "First, import the project root directory to make the `voxel_transformer` module accessible:"
   ]
  },
  {
   "cell_type": "code",
   "execution_count": 21,
   "metadata": {},
   "outputs": [],
   "source": [
    "import sys\n",
    "sys.path.append('..')"
   ]
  },
  {
   "cell_type": "markdown",
   "metadata": {},
   "source": [
    "Now you can import a model and create a model instance:"
   ]
  },
  {
   "cell_type": "code",
   "execution_count": 22,
   "metadata": {},
   "outputs": [
    {
     "ename": "ModuleNotFoundError",
     "evalue": "No module named 'voxel_transformer_resnet'",
     "output_type": "error",
     "traceback": [
      "\u001b[0;31m---------------------------------------------------------------------------\u001b[0m",
      "\u001b[0;31mModuleNotFoundError\u001b[0m                       Traceback (most recent call last)",
      "\u001b[1;32m/home/carlostojal/Documents/Research/voxel-transformer/notebooks/demo.ipynb Cell 5\u001b[0m line \u001b[0;36m1\n\u001b[0;32m----> <a href='vscode-notebook-cell:/home/carlostojal/Documents/Research/voxel-transformer/notebooks/demo.ipynb#W2sZmlsZQ%3D%3D?line=0'>1</a>\u001b[0m \u001b[39mfrom\u001b[39;00m \u001b[39mvoxel_transformer\u001b[39;00m\u001b[39m.\u001b[39;00m\u001b[39mmodel_zoo\u001b[39;00m\u001b[39m.\u001b[39;00m\u001b[39mvoxel_transformer_resnet\u001b[39;00m \u001b[39mimport\u001b[39;00m VoxelTransformer_ResNet\n\u001b[1;32m      <a href='vscode-notebook-cell:/home/carlostojal/Documents/Research/voxel-transformer/notebooks/demo.ipynb#W2sZmlsZQ%3D%3D?line=2'>3</a>\u001b[0m model \u001b[39m=\u001b[39m VoxelTransformer_ResNet()\n",
      "File \u001b[0;32m~/Documents/Research/voxel-transformer/notebooks/../voxel_transformer/__init__.py:1\u001b[0m\n\u001b[0;32m----> 1\u001b[0m \u001b[39mfrom\u001b[39;00m \u001b[39mmodel_zoo\u001b[39;00m \u001b[39mimport\u001b[39;00m \u001b[39m*\u001b[39m\n",
      "File \u001b[0;32m~/Documents/Research/voxel-transformer/notebooks/../voxel_transformer/model_zoo/__init__.py:1\u001b[0m\n\u001b[0;32m----> 1\u001b[0m \u001b[39mfrom\u001b[39;00m \u001b[39mvoxel_transformer_resnet\u001b[39;00m \u001b[39mimport\u001b[39;00m VoxelTransformer_ResNet\n",
      "\u001b[0;31mModuleNotFoundError\u001b[0m: No module named 'voxel_transformer_resnet'"
     ]
    }
   ],
   "source": [
    "from voxel_transformer.model_zoo.voxel_transformer_resnet import VoxelTransformer_ResNet\n",
    "\n",
    "model = VoxelTransformer_ResNet()"
   ]
  }
 ],
 "metadata": {
  "kernelspec": {
   "display_name": "Python 3",
   "language": "python",
   "name": "python3"
  },
  "language_info": {
   "codemirror_mode": {
    "name": "ipython",
    "version": 3
   },
   "file_extension": ".py",
   "mimetype": "text/x-python",
   "name": "python",
   "nbconvert_exporter": "python",
   "pygments_lexer": "ipython3",
   "version": "3.8.10"
  },
  "orig_nbformat": 4
 },
 "nbformat": 4,
 "nbformat_minor": 2
}
