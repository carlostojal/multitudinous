{
 "cells": [
  {
   "cell_type": "markdown",
   "metadata": {},
   "source": [
    "# Voxel Transformer Demonstration\n",
    "\n",
    "This is a demo of the Voxel Transformer model."
   ]
  },
  {
   "cell_type": "markdown",
   "metadata": {},
   "source": [
    "First, import the project root directory to make the `voxel_transformer` module accessible:"
   ]
  },
  {
   "cell_type": "code",
   "execution_count": 1,
   "metadata": {
    "ExecuteTime": {
     "end_time": "2023-10-03T14:21:30.998417222Z",
     "start_time": "2023-10-03T14:21:30.928175262Z"
    }
   },
   "outputs": [],
   "source": [
    "import sys\n",
    "sys.path.append('..')"
   ]
  },
  {
   "cell_type": "markdown",
   "metadata": {},
   "source": [
    "Now you can import a model and create a model instance:"
   ]
  },
  {
   "cell_type": "code",
   "execution_count": 2,
   "metadata": {
    "ExecuteTime": {
     "end_time": "2023-10-03T14:21:33.992159314Z",
     "start_time": "2023-10-03T14:21:30.934530175Z"
    }
   },
   "outputs": [],
   "source": [
    "from voxel_transformer.model_zoo.voxel_transformer_resnet50 import VoxelTransformer_ResNet50\n",
    "\n",
    "model = VoxelTransformer_ResNet50()"
   ]
  },
  {
   "cell_type": "markdown",
   "source": [
    "Make a test forward pass:"
   ],
   "metadata": {
    "collapsed": false
   }
  },
  {
   "cell_type": "code",
   "execution_count": 3,
   "outputs": [
    {
     "name": "stdout",
     "output_type": "stream",
     "text": [
      "PointTransformer forward\n",
      "ResNet 50 forward\n",
      "Neck forward\n",
      "Deconvolutional head forward\n"
     ]
    }
   ],
   "source": [
    "occ_out = model(None, None)"
   ],
   "metadata": {
    "collapsed": false,
    "ExecuteTime": {
     "end_time": "2023-10-03T14:21:34.004080107Z",
     "start_time": "2023-10-03T14:21:33.977942295Z"
    }
   }
  }
 ],
 "metadata": {
  "kernelspec": {
   "display_name": "Python 3",
   "language": "python",
   "name": "python3"
  },
  "language_info": {
   "codemirror_mode": {
    "name": "ipython",
    "version": 3
   },
   "file_extension": ".py",
   "mimetype": "text/x-python",
   "name": "python",
   "nbconvert_exporter": "python",
   "pygments_lexer": "ipython3",
   "version": "3.8.10"
  },
  "orig_nbformat": 4
 },
 "nbformat": 4,
 "nbformat_minor": 2
}
